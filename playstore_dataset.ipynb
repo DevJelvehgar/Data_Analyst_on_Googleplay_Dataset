{
 "cells": [
  {
   "cell_type": "code",
   "execution_count": null,
   "id": "e5219180-177d-4d69-8aeb-24c0c4a35ab5",
   "metadata": {},
   "outputs": [],
   "source": [
    "import pandas as pd\n",
    "import numpy as np\n",
    "import seaborn as sns"
   ]
  },
  {
   "cell_type": "code",
   "execution_count": null,
   "id": "2111c25e-ae38-4576-93a9-fd8f5dbb8675",
   "metadata": {},
   "outputs": [],
   "source": [
    "dataset = pd.read_csv('googleplaystore.csv')"
   ]
  },
  {
   "cell_type": "code",
   "execution_count": null,
   "id": "f0788cf6-bcae-4aa5-ab20-06f767fbacae",
   "metadata": {},
   "outputs": [],
   "source": [
    "df = dataset.copy()\n",
    "df.shape"
   ]
  },
  {
   "cell_type": "markdown",
   "id": "a89db131-54a9-424f-a410-c60d04f03a34",
   "metadata": {},
   "source": [
    "### Clean Size Column"
   ]
  },
  {
   "cell_type": "code",
   "execution_count": null,
   "id": "ba6bdd4b-a67c-4c78-85bd-58310e1810f7",
   "metadata": {},
   "outputs": [],
   "source": [
    "# We have one datapoint in Size column with value of 1,000+ and We remove this from Dataset\n",
    "df = df[~df['Size'].str.contains('\\+')]\n"
   ]
  },
  {
   "cell_type": "code",
   "execution_count": null,
   "id": "dd6d9e41-9b05-4575-be42-7e897b57b0c5",
   "metadata": {},
   "outputs": [],
   "source": [
    "# 1 item was removed\n",
    "df.shape"
   ]
  },
  {
   "cell_type": "code",
   "execution_count": null,
   "id": "afb5eba3-6b30-4d4e-afb9-eb05b7a305e0",
   "metadata": {},
   "outputs": [],
   "source": [
    "# Convert M ,K Size into Decimal \n",
    "df[\"Size\"] = [\n",
    "    int(float(s[:-1]) * 1e6) if s.endswith(\"M\") else \n",
    "    int(float(s[:-1]) * 1e3) if s.endswith(\"k\") else\n",
    "    float(np.nan) \n",
    "    for s in df[\"Size\"]\n",
    "]"
   ]
  },
  {
   "cell_type": "markdown",
   "id": "481710b2-777e-4e96-8d45-12a421431710",
   "metadata": {},
   "source": [
    "### Clean Installs Column"
   ]
  },
  {
   "cell_type": "code",
   "execution_count": null,
   "id": "057c4248-d112-4b6c-9618-d9e2b29107c8",
   "metadata": {},
   "outputs": [],
   "source": [
    "df[\"Installs\"].unique()"
   ]
  },
  {
   "cell_type": "code",
   "execution_count": null,
   "id": "ffd37bf2-619e-4c36-a010-c39f615c1547",
   "metadata": {},
   "outputs": [],
   "source": [
    "# for item in df[\"Installs\"]:\n",
    "#     for char in [\",\", \"+\"]:\n",
    "#         df[\"Installs\"].str.replace(char, \"\")"
   ]
  },
  {
   "cell_type": "code",
   "execution_count": null,
   "id": "68a52436-1064-4bd0-bd95-f9ed6fd4b29f",
   "metadata": {},
   "outputs": [],
   "source": [
    "df[\"Installs\"] = df[\"Installs\"].str.replace(\"+\", \"\")\n",
    "df[\"Installs\"] = df[\"Installs\"].str.replace(\",\", \"\")\n",
    "df[\"Installs\"] = df[\"Installs\"].astype(float)"
   ]
  },
  {
   "cell_type": "markdown",
   "id": "04dc1cd3-4022-4fae-9863-14c89358ec71",
   "metadata": {},
   "source": [
    "### Clean Last Updated"
   ]
  },
  {
   "cell_type": "code",
   "execution_count": null,
   "id": "f3d910d7-be70-4185-a160-7b06f0b92811",
   "metadata": {},
   "outputs": [],
   "source": [
    "df[\"Last Updated\"]"
   ]
  },
  {
   "cell_type": "code",
   "execution_count": null,
   "id": "6db74643-e4be-404b-aa67-304d55b78794",
   "metadata": {},
   "outputs": [],
   "source": [
    "# Convet January-7-2018 into Day = 7 , MOnth = 1 , Year = 2018 and then remove Last Updated Coloumn\n",
    "df[\"Last Updated\"] = pd.to_datetime(df[\"Last Updated\"])\n",
    "df[\"Day\"] = df[\"Last Updated\"].dt.day.astype(int)\n",
    "df[\"Month\"] = df[\"Last Updated\"].dt.month.astype(int)\n",
    "df[\"Year\"] = df[\"Last Updated\"].dt.year.astype(int)"
   ]
  },
  {
   "cell_type": "code",
   "execution_count": null,
   "id": "0e57f1fa-9e2d-4b1d-86c2-56d94ac82d30",
   "metadata": {},
   "outputs": [],
   "source": [
    "df.drop(\"Last Updated\", axis=1, inplace=True)"
   ]
  },
  {
   "cell_type": "code",
   "execution_count": null,
   "id": "73d4a710-0e13-4ee1-853c-15d7e566ee35",
   "metadata": {},
   "outputs": [],
   "source": [
    "df.dtypes"
   ]
  },
  {
   "cell_type": "markdown",
   "id": "063499c4-480e-420c-8eca-31540730c690",
   "metadata": {},
   "source": [
    "### Clean Reviews"
   ]
  },
  {
   "cell_type": "code",
   "execution_count": null,
   "id": "71a7a964-5a28-45f6-b4ff-e7282d3d17dd",
   "metadata": {},
   "outputs": [],
   "source": [
    "df[\"Reviews\"]= df[\"Reviews\"].astype(int)"
   ]
  },
  {
   "cell_type": "code",
   "execution_count": 1,
   "id": "23471c3f-648d-4001-9f90-e9467f9d124b",
   "metadata": {},
   "outputs": [
    {
     "ename": "SyntaxError",
     "evalue": "invalid syntax (2830201818.py, line 1)",
     "output_type": "error",
     "traceback": [
      "\u001b[1;36m  Cell \u001b[1;32mIn[1], line 1\u001b[1;36m\u001b[0m\n\u001b[1;33m    git init\u001b[0m\n\u001b[1;37m        ^\u001b[0m\n\u001b[1;31mSyntaxError\u001b[0m\u001b[1;31m:\u001b[0m invalid syntax\n"
     ]
    }
   ],
   "source": [
    "git init"
   ]
  },
  {
   "cell_type": "code",
   "execution_count": null,
   "id": "13794889-39f2-419b-a641-1dc9d20ddba1",
   "metadata": {},
   "outputs": [],
   "source": []
  }
 ],
 "metadata": {
  "kernelspec": {
   "display_name": "Python 3 (ipykernel)",
   "language": "python",
   "name": "python3"
  },
  "language_info": {
   "codemirror_mode": {
    "name": "ipython",
    "version": 3
   },
   "file_extension": ".py",
   "mimetype": "text/x-python",
   "name": "python",
   "nbconvert_exporter": "python",
   "pygments_lexer": "ipython3",
   "version": "3.12.7"
  }
 },
 "nbformat": 4,
 "nbformat_minor": 5
}
