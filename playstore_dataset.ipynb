{
 "cells": [
  {
   "cell_type": "markdown",
   "id": "e0f343f0-5c72-4760-87fe-b5015b074e8e",
   "metadata": {},
   "source": [
    "## Features(Columns) Information\n",
    "1.  APP : Name of the App\n",
    "2.  Category : Category under which the App falls\n",
    "3.  Rating : App rating on google play\n",
    "4.  Reviews : Number reviews of The App\n",
    "5.  Install : Number of installs of the App\n",
    "6.  Type : App is free or paid ?\n",
    "7.  price : price of the App if it's Free = 0\n",
    "8.  Content Rating : Appropiate Target Audience of the App\n",
    "9.  Genres : Genre under which the App falls\n",
    "10. size : size of the App\n",
    "11. Last Updated : Date when the app was last updated\n",
    "12. Current Version : Current Version of the App\n",
    "13. Android Ver : Min android version required\n"
   ]
  },
  {
   "cell_type": "code",
   "execution_count": 71,
   "id": "e5219180-177d-4d69-8aeb-24c0c4a35ab5",
   "metadata": {},
   "outputs": [],
   "source": [
    "import pandas as pd\n",
    "import numpy as np\n",
    "import seaborn as sns"
   ]
  },
  {
   "cell_type": "code",
   "execution_count": 72,
   "id": "2111c25e-ae38-4576-93a9-fd8f5dbb8675",
   "metadata": {},
   "outputs": [],
   "source": [
    "dataset = pd.read_csv('googleplaystore.csv')"
   ]
  },
  {
   "cell_type": "code",
   "execution_count": 136,
   "id": "f0788cf6-bcae-4aa5-ab20-06f767fbacae",
   "metadata": {},
   "outputs": [
    {
     "data": {
      "text/plain": [
       "(10841, 13)"
      ]
     },
     "execution_count": 136,
     "metadata": {},
     "output_type": "execute_result"
    }
   ],
   "source": [
    "df = dataset.copy()\n",
    "df.shape"
   ]
  },
  {
   "cell_type": "markdown",
   "id": "a89db131-54a9-424f-a410-c60d04f03a34",
   "metadata": {},
   "source": [
    "### Clean Size Column"
   ]
  },
  {
   "cell_type": "code",
   "execution_count": 75,
   "id": "ba6bdd4b-a67c-4c78-85bd-58310e1810f7",
   "metadata": {},
   "outputs": [
    {
     "name": "stderr",
     "output_type": "stream",
     "text": [
      "<>:2: SyntaxWarning: invalid escape sequence '\\+'\n",
      "<>:2: SyntaxWarning: invalid escape sequence '\\+'\n",
      "C:\\Users\\Administrator\\AppData\\Local\\Temp\\ipykernel_8908\\323854776.py:2: SyntaxWarning: invalid escape sequence '\\+'\n",
      "  df = df[~df['Size'].str.contains('\\+')]\n"
     ]
    }
   ],
   "source": [
    "# We have one datapoint in Size column with value of 1,000+ and We remove this from Dataset\n",
    "df = df[~df['Size'].str.contains('\\+')]\n"
   ]
  },
  {
   "cell_type": "code",
   "execution_count": 76,
   "id": "dd6d9e41-9b05-4575-be42-7e897b57b0c5",
   "metadata": {},
   "outputs": [
    {
     "data": {
      "text/plain": [
       "(10840, 13)"
      ]
     },
     "execution_count": 76,
     "metadata": {},
     "output_type": "execute_result"
    }
   ],
   "source": [
    "# 1 item was removed\n",
    "df.shape"
   ]
  },
  {
   "cell_type": "code",
   "execution_count": 77,
   "id": "afb5eba3-6b30-4d4e-afb9-eb05b7a305e0",
   "metadata": {},
   "outputs": [],
   "source": [
    "# Convert M ,K Size into Decimal \n",
    "df[\"Size\"] = [\n",
    "    int(float(s[:-1]) * 1e6) if s.endswith(\"M\") else \n",
    "    int(float(s[:-1]) * 1e3) if s.endswith(\"k\") else\n",
    "    float(np.nan) \n",
    "    for s in df[\"Size\"]\n",
    "]"
   ]
  },
  {
   "cell_type": "markdown",
   "id": "481710b2-777e-4e96-8d45-12a421431710",
   "metadata": {},
   "source": [
    "### Clean Installs Column"
   ]
  },
  {
   "cell_type": "code",
   "execution_count": 79,
   "id": "057c4248-d112-4b6c-9618-d9e2b29107c8",
   "metadata": {},
   "outputs": [
    {
     "data": {
      "text/plain": [
       "array(['10,000+', '500,000+', '5,000,000+', '50,000,000+', '100,000+',\n",
       "       '50,000+', '1,000,000+', '10,000,000+', '5,000+', '100,000,000+',\n",
       "       '1,000,000,000+', '1,000+', '500,000,000+', '50+', '100+', '500+',\n",
       "       '10+', '1+', '5+', '0+', '0'], dtype=object)"
      ]
     },
     "execution_count": 79,
     "metadata": {},
     "output_type": "execute_result"
    }
   ],
   "source": [
    "df[\"Installs\"].unique()"
   ]
  },
  {
   "cell_type": "code",
   "execution_count": 80,
   "id": "ffd37bf2-619e-4c36-a010-c39f615c1547",
   "metadata": {},
   "outputs": [],
   "source": [
    "# for item in df[\"Installs\"]:\n",
    "#     for char in [\",\", \"+\"]:\n",
    "#         df[\"Installs\"].str.replace(char, \"\")"
   ]
  },
  {
   "cell_type": "code",
   "execution_count": 81,
   "id": "68a52436-1064-4bd0-bd95-f9ed6fd4b29f",
   "metadata": {},
   "outputs": [],
   "source": [
    "df[\"Installs\"] = df[\"Installs\"].str.replace(\"+\", \"\")\n",
    "df[\"Installs\"] = df[\"Installs\"].str.replace(\",\", \"\")\n",
    "df[\"Installs\"] = df[\"Installs\"].astype(float)"
   ]
  },
  {
   "cell_type": "markdown",
   "id": "04dc1cd3-4022-4fae-9863-14c89358ec71",
   "metadata": {},
   "source": [
    "### Clean Last Updated"
   ]
  },
  {
   "cell_type": "code",
   "execution_count": 83,
   "id": "f3d910d7-be70-4185-a160-7b06f0b92811",
   "metadata": {},
   "outputs": [
    {
     "data": {
      "text/plain": [
       "0         January 7, 2018\n",
       "1        January 15, 2018\n",
       "2          August 1, 2018\n",
       "3            June 8, 2018\n",
       "4           June 20, 2018\n",
       "               ...       \n",
       "10836       July 25, 2017\n",
       "10837        July 6, 2018\n",
       "10838    January 20, 2017\n",
       "10839    January 19, 2015\n",
       "10840       July 25, 2018\n",
       "Name: Last Updated, Length: 10840, dtype: object"
      ]
     },
     "execution_count": 83,
     "metadata": {},
     "output_type": "execute_result"
    }
   ],
   "source": [
    "df[\"Last Updated\"]"
   ]
  },
  {
   "cell_type": "code",
   "execution_count": 84,
   "id": "6db74643-e4be-404b-aa67-304d55b78794",
   "metadata": {},
   "outputs": [],
   "source": [
    "# Convet January-7-2018 into Day = 7 , MOnth = 1 , Year = 2018 and then remove Last Updated Coloumn\n",
    "df[\"Last Updated\"] = pd.to_datetime(df[\"Last Updated\"])\n",
    "df[\"Day\"] = df[\"Last Updated\"].dt.day.astype(int)\n",
    "df[\"Month\"] = df[\"Last Updated\"].dt.month.astype(int)\n",
    "df[\"Year\"] = df[\"Last Updated\"].dt.year.astype(int)"
   ]
  },
  {
   "cell_type": "code",
   "execution_count": 85,
   "id": "0e57f1fa-9e2d-4b1d-86c2-56d94ac82d30",
   "metadata": {},
   "outputs": [],
   "source": [
    "df.drop(\"Last Updated\", axis=1, inplace=True)"
   ]
  },
  {
   "cell_type": "code",
   "execution_count": 86,
   "id": "73d4a710-0e13-4ee1-853c-15d7e566ee35",
   "metadata": {},
   "outputs": [
    {
     "data": {
      "text/plain": [
       "App                object\n",
       "Category           object\n",
       "Rating            float64\n",
       "Reviews            object\n",
       "Size              float64\n",
       "Installs          float64\n",
       "Type               object\n",
       "Price              object\n",
       "Content Rating     object\n",
       "Genres             object\n",
       "Current Ver        object\n",
       "Android Ver        object\n",
       "Day                 int32\n",
       "Month               int32\n",
       "Year                int32\n",
       "dtype: object"
      ]
     },
     "execution_count": 86,
     "metadata": {},
     "output_type": "execute_result"
    }
   ],
   "source": [
    "df.dtypes"
   ]
  },
  {
   "cell_type": "markdown",
   "id": "063499c4-480e-420c-8eca-31540730c690",
   "metadata": {},
   "source": [
    "### Clean Reviews"
   ]
  },
  {
   "cell_type": "code",
   "execution_count": 88,
   "id": "71a7a964-5a28-45f6-b4ff-e7282d3d17dd",
   "metadata": {},
   "outputs": [],
   "source": [
    "df[\"Reviews\"]= df[\"Reviews\"].astype(int)"
   ]
  },
  {
   "cell_type": "code",
   "execution_count": 89,
   "id": "23471c3f-648d-4001-9f90-e9467f9d124b",
   "metadata": {},
   "outputs": [],
   "source": [
    "df[\"Price\"] = df[\"Price\"].str.replace(\"$\", \"\")\n",
    "df[\"Price\"] = df[\"Price\"].astype(float)"
   ]
  },
  {
   "cell_type": "code",
   "execution_count": 90,
   "id": "13794889-39f2-419b-a641-1dc9d20ddba1",
   "metadata": {
    "scrolled": true
   },
   "outputs": [
    {
     "data": {
      "text/plain": [
       "array([  0.  ,   4.99,   3.99,   6.99,   1.49,   2.99,   7.99,   5.99,\n",
       "         3.49,   1.99,   9.99,   7.49,   0.99,   9.  ,   5.49,  10.  ,\n",
       "        24.99,  11.99,  79.99,  16.99,  14.99,   1.  ,  29.99,  12.99,\n",
       "         2.49,  10.99,   1.5 ,  19.99,  15.99,  33.99,  74.99,  39.99,\n",
       "         3.95,   4.49,   1.7 ,   8.99,   2.  ,   3.88,  25.99, 399.99,\n",
       "        17.99, 400.  ,   3.02,   1.76,   4.84,   4.77,   1.61,   2.5 ,\n",
       "         1.59,   6.49,   1.29,   5.  ,  13.99, 299.99, 379.99,  37.99,\n",
       "        18.99, 389.99,  19.9 ,   8.49,   1.75,  14.  ,   4.85,  46.99,\n",
       "       109.99, 154.99,   3.08,   2.59,   4.8 ,   1.96,  19.4 ,   3.9 ,\n",
       "         4.59,  15.46,   3.04,   4.29,   2.6 ,   3.28,   4.6 ,  28.99,\n",
       "         2.95,   2.9 ,   1.97, 200.  ,  89.99,   2.56,  30.99,   3.61,\n",
       "       394.99,   1.26,   1.2 ,   1.04])"
      ]
     },
     "execution_count": 90,
     "metadata": {},
     "output_type": "execute_result"
    }
   ],
   "source": [
    "df[\"Price\"].unique()"
   ]
  },
  {
   "cell_type": "code",
   "execution_count": 91,
   "id": "592668b7-7c08-4df1-bb50-c8174eb046bd",
   "metadata": {},
   "outputs": [],
   "source": [
    "df.to_csv(\"clean_dataset.csv\")"
   ]
  },
  {
   "cell_type": "markdown",
   "id": "02352eb8-67b4-48df-84b1-9aee9464597b",
   "metadata": {},
   "source": [
    "## EDA"
   ]
  },
  {
   "cell_type": "code",
   "execution_count": null,
   "id": "04d86eb5-381f-4448-9e06-9c9ef03c22e0",
   "metadata": {},
   "outputs": [],
   "source": [
    "df[df.duplicated(\"App\")]"
   ]
  },
  {
   "cell_type": "markdown",
   "id": "218f2ee9-8640-4c05-96eb-167a9e0e44ec",
   "metadata": {},
   "source": [
    "### Observation\n",
    "The dataset has duplicate records "
   ]
  },
  {
   "cell_type": "code",
   "execution_count": 94,
   "id": "682cb94d-1728-4e87-a7fd-087325f9c3e3",
   "metadata": {},
   "outputs": [],
   "source": [
    "df.drop_duplicates(subset=[\"App\"], keep=\"first\", inplace=True)"
   ]
  },
  {
   "cell_type": "code",
   "execution_count": 115,
   "id": "6e055a43-5571-40c6-9289-1362322e88b9",
   "metadata": {},
   "outputs": [
    {
     "data": {
      "text/plain": [
       "(9659, 15)"
      ]
     },
     "execution_count": 115,
     "metadata": {},
     "output_type": "execute_result"
    }
   ],
   "source": [
    "df.shape"
   ]
  },
  {
   "cell_type": "code",
   "execution_count": 126,
   "id": "6badb7ec-40df-4009-9d18-0852d1ffe9c0",
   "metadata": {},
   "outputs": [],
   "source": [
    "numerical_features = [feature for feature in df.columns if df[feature].dtype != \"O\"]\n",
    "categorical_features = [feature for feature in df.columns if df[feature].dtype == \"O\"]"
   ]
  },
  {
   "cell_type": "code",
   "execution_count": 144,
   "id": "4f5ed886-ed65-4de4-8762-015b01619a63",
   "metadata": {},
   "outputs": [
    {
     "name": "stdout",
     "output_type": "stream",
     "text": [
      "We have 8 numerical features such as: ['Rating', 'Reviews', 'Size', 'Installs', 'Price', 'Day', 'Month', 'Year']\n",
      "We have 7 categorical features such as: ['App', 'Category', 'Type', 'Content Rating', 'Genres', 'Current Ver', 'Android Ver']\n"
     ]
    }
   ],
   "source": [
    "print(\"We have {} numerical features such as: {}\".format(len(numeric_features), numeric_features))\n",
    "print(\"We have {} categorical features such as: {}\".format(len(categorical_features), categorical_features))"
   ]
  },
  {
   "cell_type": "code",
   "execution_count": 132,
   "id": "e2c77b81-10be-446e-9be8-65325e897fba",
   "metadata": {},
   "outputs": [
    {
     "data": {
      "text/plain": [
       "(9659, 15)"
      ]
     },
     "execution_count": 132,
     "metadata": {},
     "output_type": "execute_result"
    }
   ],
   "source": []
  },
  {
   "cell_type": "code",
   "execution_count": null,
   "id": "de6905f2-9b3a-47d4-9531-3f92eb5728d1",
   "metadata": {},
   "outputs": [],
   "source": []
  }
 ],
 "metadata": {
  "kernelspec": {
   "display_name": "Python 3 (ipykernel)",
   "language": "python",
   "name": "python3"
  },
  "language_info": {
   "codemirror_mode": {
    "name": "ipython",
    "version": 3
   },
   "file_extension": ".py",
   "mimetype": "text/x-python",
   "name": "python",
   "nbconvert_exporter": "python",
   "pygments_lexer": "ipython3",
   "version": "3.12.7"
  }
 },
 "nbformat": 4,
 "nbformat_minor": 5
}
